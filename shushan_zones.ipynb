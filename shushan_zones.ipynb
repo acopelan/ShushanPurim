{
 "cells": [
  {
   "cell_type": "code",
   "execution_count": 18,
   "metadata": {},
   "outputs": [],
   "source": [
    "import geopandas as gpd\n",
    "import folium\n",
    "import pandas as pd\n",
    "from folium.plugins import LocateControl\n",
    "from shapely.geometry import Point\n",
    "from shapely.ops import cascaded_union"
   ]
  },
  {
   "cell_type": "code",
   "execution_count": 2,
   "metadata": {},
   "outputs": [],
   "source": [
    "walled_cities_dict = {\"Tiberias\":[32.775011, 35.545584],\"Hebron\":[31.524723, 35.110460],\"Nablus\":[32.213117, 35.284881],\n",
    "                      \"Jaffa\":[32.053705, 34.750625],\"Lod\":[31.955268, 34.896203],\"Gaza\":[31.504135, 34.464426],\n",
    "                      \"Zefat\":[32.966292, 35.494927],\"Acre\":[32.920831, 35.069042],\"Haifa\":[32.800833, 35.019167],\n",
    "                      \"Beit Shean\":[32.499474, 35.498450],\"Jericho\":[31.870487, 35.440522],\n",
    "                      \"Beer Sheva\":[31.237182, 34.793101],\"Ramla\":[31.924759, 34.872939],\"Tyre\":[33.274876, 35.193785],\n",
    "                      \"Sidon\":[33.562539, 35.369619],\"Damascus\":[33.511125, 36.301019],\"Izmir\":[38.418095, 27.139753],\n",
    "                      \"Baghdad\":[33.350506, 44.401307],\"Jerusalem\":[31.777055, 35.234268]}\n",
    "walled_cities_gdf = gpd.GeoDataFrame()\n",
    "walled_cities_gdf['City'] = list(walled_cities_dict.keys())\n",
    "walled_cities_gdf['geometry'] = list(walled_cities_dict.values())\n",
    "walled_cities_gdf['geometry'] = walled_cities_gdf['geometry'].apply(lambda x: Point(x[1],x[0]))\n",
    "walled_cities_gdf.crs = {'init':'epsg:4326'}\n",
    "walled_cities_gdf = walled_cities_gdf.to_crs(epsg=3857)"
   ]
  },
  {
   "cell_type": "code",
   "execution_count": 3,
   "metadata": {},
   "outputs": [],
   "source": [
    "### File downloaded from https://download.geofabrik.de/asia/israel-and-palestine.html\n",
    "buildings = gpd.read_file('/home/arieh/Downloads/israel-and-palestine-latest-free.shp/gis_osm_buildings_a_free_1.shp')\n",
    "buildings = buildings.to_crs(epsg=3857)\n",
    "buildings_cent = buildings.copy()\n",
    "buildings_cent['geometry'] = buildings_cent['geometry'].centroid\n",
    "buildings_cent['geometry'] = buildings_cent['geometry'].buffer(67.8)"
   ]
  },
  {
   "cell_type": "code",
   "execution_count": 4,
   "metadata": {},
   "outputs": [],
   "source": [
    "all_union = cascaded_union(buildings_cent['geometry'])\n",
    "all_union_polys = []\n",
    "for poly in all_union:\n",
    "    all_union_polys.append(poly)\n",
    "max_buffers_gdf = gpd.GeoDataFrame()\n",
    "max_buffers_gdf['geometry'] = all_union_polys\n",
    "max_buffers_gdf['id'] = range(len(all_union_polys))\n",
    "max_buffers_gdf.crs = buildings_cent.crs\n",
    "shushan_extents = gpd.sjoin(walled_cities_gdf,max_buffers_gdf)\n",
    "max_buffers_gdf_subset = max_buffers_gdf[max_buffers_gdf['id'].isin(shushan_extents['index_right'])]\n",
    "max_buffers_gdf_subset = max_buffers_gdf_subset.to_crs({'init':'epsg:4326'})\n",
    "Shushan_Zones = pd.merge(max_buffers_gdf_subset,shushan_extents[['id','City']],on = 'id')"
   ]
  },
  {
   "cell_type": "code",
   "execution_count": 22,
   "metadata": {},
   "outputs": [],
   "source": [
    "x1,y1,x2,y2 = Shushan_Zones['geometry'].total_bounds\n",
    "m = folium.Map(tiles='openstreetmap')\n",
    "LocateControl().add_to(m)\n",
    "m.fit_bounds([[y1, x1], [y2, x2]])\n",
    "folium.GeoJson(Shushan_Zones,name='Shushan Zones').add_to(m)\n",
    "folium.LayerControl().add_to(m)\n",
    "m.save('local_files/Shushan_Zone_Tool.html')"
   ]
  }
 ],
 "metadata": {
  "kernelspec": {
   "display_name": "Python 3",
   "language": "python",
   "name": "python3"
  },
  "language_info": {
   "codemirror_mode": {
    "name": "ipython",
    "version": 3
   },
   "file_extension": ".py",
   "mimetype": "text/x-python",
   "name": "python",
   "nbconvert_exporter": "python",
   "pygments_lexer": "ipython3",
   "version": "3.6.7"
  }
 },
 "nbformat": 4,
 "nbformat_minor": 2
}
